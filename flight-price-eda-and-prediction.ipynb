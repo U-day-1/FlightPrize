{
 "cells": [
  {
   "cell_type": "code",
   "execution_count": 1,
   "id": "aeb955f7",
   "metadata": {
    "_cell_guid": "b1076dfc-b9ad-4769-8c92-a6c4dae69d19",
    "_uuid": "8f2839f25d086af736a60e9eeb907d3b93b6e0e5",
    "papermill": {
     "duration": 0.47078,
     "end_time": "2024-09-10T16:17:35.803326",
     "exception": false,
     "start_time": "2024-09-10T16:17:35.332546",
     "status": "completed"
    },
    "tags": []
   },
   "outputs": [],
   "source": [
    "import numpy as np\n",
    "import pandas as pd \n",
    "import numpy as np\n",
    "import pandas as pd\n",
    "import matplotlib.pyplot as plt\n",
    "import seaborn as sns\n",
    "from sklearn.model_selection import train_test_split, GridSearchCV\n",
    "from sklearn.metrics import mean_absolute_error, r2_score\n",
    "from sklearn.linear_model import LinearRegression\n",
    "from sklearn.tree import DecisionTreeRegressor\n",
    "from sklearn.ensemble import RandomForestRegressor\n",
    "from sklearn.linear_model import Ridge , Lasso\n",
    "from xgboost import XGBRegressor\n",
    "from sklearn.preprocessing import LabelEncoder"
   ]
  },
  {
   "cell_type": "code",
   "execution_count": 2,
   "id": "b44f3e1a",
   "metadata": {
    "papermill": {
     "duration": 0.94693,
     "end_time": "2024-09-10T16:17:38.560967",
     "exception": false,
     "start_time": "2024-09-10T16:17:37.614037",
     "status": "completed"
    },
    "tags": []
   },
   "outputs": [],
   "source": [
    "df = pd.read_csv(\"Data.csv\")"
   ]
  },
  {
   "cell_type": "code",
   "execution_count": 3,
   "id": "66838573",
   "metadata": {
    "papermill": {
     "duration": 0.043697,
     "end_time": "2024-09-10T16:17:38.616926",
     "exception": false,
     "start_time": "2024-09-10T16:17:38.573229",
     "status": "completed"
    },
    "tags": []
   },
   "outputs": [
    {
     "data": {
      "text/html": [
       "<div>\n",
       "<style scoped>\n",
       "    .dataframe tbody tr th:only-of-type {\n",
       "        vertical-align: middle;\n",
       "    }\n",
       "\n",
       "    .dataframe tbody tr th {\n",
       "        vertical-align: top;\n",
       "    }\n",
       "\n",
       "    .dataframe thead th {\n",
       "        text-align: right;\n",
       "    }\n",
       "</style>\n",
       "<table border=\"1\" class=\"dataframe\">\n",
       "  <thead>\n",
       "    <tr style=\"text-align: right;\">\n",
       "      <th></th>\n",
       "      <th>Unnamed: 0</th>\n",
       "      <th>airline</th>\n",
       "      <th>flight</th>\n",
       "      <th>source_city</th>\n",
       "      <th>departure_time</th>\n",
       "      <th>stops</th>\n",
       "      <th>arrival_time</th>\n",
       "      <th>destination_city</th>\n",
       "      <th>class</th>\n",
       "      <th>duration</th>\n",
       "      <th>days_left</th>\n",
       "      <th>price</th>\n",
       "    </tr>\n",
       "  </thead>\n",
       "  <tbody>\n",
       "    <tr>\n",
       "      <th>0</th>\n",
       "      <td>0</td>\n",
       "      <td>SpiceJet</td>\n",
       "      <td>SG-8709</td>\n",
       "      <td>Delhi</td>\n",
       "      <td>Evening</td>\n",
       "      <td>zero</td>\n",
       "      <td>Night</td>\n",
       "      <td>Mumbai</td>\n",
       "      <td>Economy</td>\n",
       "      <td>2.17</td>\n",
       "      <td>1</td>\n",
       "      <td>5953</td>\n",
       "    </tr>\n",
       "    <tr>\n",
       "      <th>1</th>\n",
       "      <td>1</td>\n",
       "      <td>SpiceJet</td>\n",
       "      <td>SG-8157</td>\n",
       "      <td>Delhi</td>\n",
       "      <td>Early_Morning</td>\n",
       "      <td>zero</td>\n",
       "      <td>Morning</td>\n",
       "      <td>Mumbai</td>\n",
       "      <td>Economy</td>\n",
       "      <td>2.33</td>\n",
       "      <td>1</td>\n",
       "      <td>5953</td>\n",
       "    </tr>\n",
       "    <tr>\n",
       "      <th>2</th>\n",
       "      <td>2</td>\n",
       "      <td>AirAsia</td>\n",
       "      <td>I5-764</td>\n",
       "      <td>Delhi</td>\n",
       "      <td>Early_Morning</td>\n",
       "      <td>zero</td>\n",
       "      <td>Early_Morning</td>\n",
       "      <td>Mumbai</td>\n",
       "      <td>Economy</td>\n",
       "      <td>2.17</td>\n",
       "      <td>1</td>\n",
       "      <td>5956</td>\n",
       "    </tr>\n",
       "    <tr>\n",
       "      <th>3</th>\n",
       "      <td>3</td>\n",
       "      <td>Vistara</td>\n",
       "      <td>UK-995</td>\n",
       "      <td>Delhi</td>\n",
       "      <td>Morning</td>\n",
       "      <td>zero</td>\n",
       "      <td>Afternoon</td>\n",
       "      <td>Mumbai</td>\n",
       "      <td>Economy</td>\n",
       "      <td>2.25</td>\n",
       "      <td>1</td>\n",
       "      <td>5955</td>\n",
       "    </tr>\n",
       "    <tr>\n",
       "      <th>4</th>\n",
       "      <td>4</td>\n",
       "      <td>Vistara</td>\n",
       "      <td>UK-963</td>\n",
       "      <td>Delhi</td>\n",
       "      <td>Morning</td>\n",
       "      <td>zero</td>\n",
       "      <td>Morning</td>\n",
       "      <td>Mumbai</td>\n",
       "      <td>Economy</td>\n",
       "      <td>2.33</td>\n",
       "      <td>1</td>\n",
       "      <td>5955</td>\n",
       "    </tr>\n",
       "  </tbody>\n",
       "</table>\n",
       "</div>"
      ],
      "text/plain": [
       "   Unnamed: 0   airline   flight source_city departure_time stops  \\\n",
       "0           0  SpiceJet  SG-8709       Delhi        Evening  zero   \n",
       "1           1  SpiceJet  SG-8157       Delhi  Early_Morning  zero   \n",
       "2           2   AirAsia   I5-764       Delhi  Early_Morning  zero   \n",
       "3           3   Vistara   UK-995       Delhi        Morning  zero   \n",
       "4           4   Vistara   UK-963       Delhi        Morning  zero   \n",
       "\n",
       "    arrival_time destination_city    class  duration  days_left  price  \n",
       "0          Night           Mumbai  Economy      2.17          1   5953  \n",
       "1        Morning           Mumbai  Economy      2.33          1   5953  \n",
       "2  Early_Morning           Mumbai  Economy      2.17          1   5956  \n",
       "3      Afternoon           Mumbai  Economy      2.25          1   5955  \n",
       "4        Morning           Mumbai  Economy      2.33          1   5955  "
      ]
     },
     "execution_count": 3,
     "metadata": {},
     "output_type": "execute_result"
    }
   ],
   "source": [
    "df.head()"
   ]
  },
  {
   "cell_type": "code",
   "execution_count": 4,
   "id": "7b6333e4",
   "metadata": {
    "papermill": {
     "duration": 0.292342,
     "end_time": "2024-09-10T16:17:38.922113",
     "exception": false,
     "start_time": "2024-09-10T16:17:38.629771",
     "status": "completed"
    },
    "tags": []
   },
   "outputs": [
    {
     "name": "stdout",
     "output_type": "stream",
     "text": [
      "<class 'pandas.core.frame.DataFrame'>\n",
      "RangeIndex: 300153 entries, 0 to 300152\n",
      "Data columns (total 12 columns):\n",
      " #   Column            Non-Null Count   Dtype  \n",
      "---  ------            --------------   -----  \n",
      " 0   Unnamed: 0        300153 non-null  int64  \n",
      " 1   airline           300153 non-null  object \n",
      " 2   flight            300153 non-null  object \n",
      " 3   source_city       300153 non-null  object \n",
      " 4   departure_time    300153 non-null  object \n",
      " 5   stops             300153 non-null  object \n",
      " 6   arrival_time      300153 non-null  object \n",
      " 7   destination_city  300153 non-null  object \n",
      " 8   class             300153 non-null  object \n",
      " 9   duration          300153 non-null  float64\n",
      " 10  days_left         300153 non-null  int64  \n",
      " 11  price             300153 non-null  int64  \n",
      "dtypes: float64(1), int64(3), object(8)\n",
      "memory usage: 27.5+ MB\n"
     ]
    }
   ],
   "source": [
    "df.info()"
   ]
  },
  {
   "cell_type": "code",
   "execution_count": 5,
   "id": "3e26b7b8",
   "metadata": {
    "papermill": {
     "duration": 0.023731,
     "end_time": "2024-09-10T16:17:38.958755",
     "exception": false,
     "start_time": "2024-09-10T16:17:38.935024",
     "status": "completed"
    },
    "tags": []
   },
   "outputs": [
    {
     "data": {
      "text/plain": [
       "(300153, 12)"
      ]
     },
     "execution_count": 5,
     "metadata": {},
     "output_type": "execute_result"
    }
   ],
   "source": [
    "df.shape"
   ]
  },
  {
   "cell_type": "code",
   "execution_count": 6,
   "id": "2c70708e",
   "metadata": {
    "papermill": {
     "duration": 0.07124,
     "end_time": "2024-09-10T16:17:39.042760",
     "exception": false,
     "start_time": "2024-09-10T16:17:38.971520",
     "status": "completed"
    },
    "tags": []
   },
   "outputs": [
    {
     "data": {
      "text/html": [
       "<div>\n",
       "<style scoped>\n",
       "    .dataframe tbody tr th:only-of-type {\n",
       "        vertical-align: middle;\n",
       "    }\n",
       "\n",
       "    .dataframe tbody tr th {\n",
       "        vertical-align: top;\n",
       "    }\n",
       "\n",
       "    .dataframe thead th {\n",
       "        text-align: right;\n",
       "    }\n",
       "</style>\n",
       "<table border=\"1\" class=\"dataframe\">\n",
       "  <thead>\n",
       "    <tr style=\"text-align: right;\">\n",
       "      <th></th>\n",
       "      <th>Unnamed: 0</th>\n",
       "      <th>duration</th>\n",
       "      <th>days_left</th>\n",
       "      <th>price</th>\n",
       "    </tr>\n",
       "  </thead>\n",
       "  <tbody>\n",
       "    <tr>\n",
       "      <th>count</th>\n",
       "      <td>300153.000000</td>\n",
       "      <td>300153.000000</td>\n",
       "      <td>300153.000000</td>\n",
       "      <td>300153.000000</td>\n",
       "    </tr>\n",
       "    <tr>\n",
       "      <th>mean</th>\n",
       "      <td>150076.000000</td>\n",
       "      <td>12.221021</td>\n",
       "      <td>26.004751</td>\n",
       "      <td>20889.660523</td>\n",
       "    </tr>\n",
       "    <tr>\n",
       "      <th>std</th>\n",
       "      <td>86646.852011</td>\n",
       "      <td>7.191997</td>\n",
       "      <td>13.561004</td>\n",
       "      <td>22697.767366</td>\n",
       "    </tr>\n",
       "    <tr>\n",
       "      <th>min</th>\n",
       "      <td>0.000000</td>\n",
       "      <td>0.830000</td>\n",
       "      <td>1.000000</td>\n",
       "      <td>1105.000000</td>\n",
       "    </tr>\n",
       "    <tr>\n",
       "      <th>25%</th>\n",
       "      <td>75038.000000</td>\n",
       "      <td>6.830000</td>\n",
       "      <td>15.000000</td>\n",
       "      <td>4783.000000</td>\n",
       "    </tr>\n",
       "    <tr>\n",
       "      <th>50%</th>\n",
       "      <td>150076.000000</td>\n",
       "      <td>11.250000</td>\n",
       "      <td>26.000000</td>\n",
       "      <td>7425.000000</td>\n",
       "    </tr>\n",
       "    <tr>\n",
       "      <th>75%</th>\n",
       "      <td>225114.000000</td>\n",
       "      <td>16.170000</td>\n",
       "      <td>38.000000</td>\n",
       "      <td>42521.000000</td>\n",
       "    </tr>\n",
       "    <tr>\n",
       "      <th>max</th>\n",
       "      <td>300152.000000</td>\n",
       "      <td>49.830000</td>\n",
       "      <td>49.000000</td>\n",
       "      <td>123071.000000</td>\n",
       "    </tr>\n",
       "  </tbody>\n",
       "</table>\n",
       "</div>"
      ],
      "text/plain": [
       "          Unnamed: 0       duration      days_left          price\n",
       "count  300153.000000  300153.000000  300153.000000  300153.000000\n",
       "mean   150076.000000      12.221021      26.004751   20889.660523\n",
       "std     86646.852011       7.191997      13.561004   22697.767366\n",
       "min         0.000000       0.830000       1.000000    1105.000000\n",
       "25%     75038.000000       6.830000      15.000000    4783.000000\n",
       "50%    150076.000000      11.250000      26.000000    7425.000000\n",
       "75%    225114.000000      16.170000      38.000000   42521.000000\n",
       "max    300152.000000      49.830000      49.000000  123071.000000"
      ]
     },
     "execution_count": 6,
     "metadata": {},
     "output_type": "execute_result"
    }
   ],
   "source": [
    "df.describe()"
   ]
  },
  {
   "cell_type": "code",
   "execution_count": 7,
   "id": "6291e809",
   "metadata": {
    "papermill": {
     "duration": 0.281697,
     "end_time": "2024-09-10T16:17:39.337281",
     "exception": false,
     "start_time": "2024-09-10T16:17:39.055584",
     "status": "completed"
    },
    "tags": []
   },
   "outputs": [
    {
     "data": {
      "text/plain": [
       "Unnamed: 0          0\n",
       "airline             0\n",
       "flight              0\n",
       "source_city         0\n",
       "departure_time      0\n",
       "stops               0\n",
       "arrival_time        0\n",
       "destination_city    0\n",
       "class               0\n",
       "duration            0\n",
       "days_left           0\n",
       "price               0\n",
       "dtype: int64"
      ]
     },
     "execution_count": 7,
     "metadata": {},
     "output_type": "execute_result"
    }
   ],
   "source": [
    "df.isnull().sum()"
   ]
  },
  {
   "cell_type": "code",
   "execution_count": 8,
   "id": "13245397",
   "metadata": {
    "papermill": {
     "duration": 0.298527,
     "end_time": "2024-09-10T16:17:39.649015",
     "exception": false,
     "start_time": "2024-09-10T16:17:39.350488",
     "status": "completed"
    },
    "tags": []
   },
   "outputs": [
    {
     "data": {
      "text/plain": [
       "0"
      ]
     },
     "execution_count": 8,
     "metadata": {},
     "output_type": "execute_result"
    }
   ],
   "source": [
    "df.duplicated().sum()"
   ]
  },
  {
   "cell_type": "code",
   "execution_count": 9,
   "id": "ac3c406d-e494-4db3-80a6-af96b6e91932",
   "metadata": {},
   "outputs": [
    {
     "data": {
      "text/plain": [
       "array(['Delhi', 'Mumbai', 'Bangalore', 'Kolkata', 'Hyderabad', 'Chennai'],\n",
       "      dtype=object)"
      ]
     },
     "execution_count": 9,
     "metadata": {},
     "output_type": "execute_result"
    }
   ],
   "source": [
    "df['source_city'].unique()"
   ]
  },
  {
   "cell_type": "code",
   "execution_count": 10,
   "id": "9f8a0f50",
   "metadata": {
    "papermill": {
     "duration": 0.212821,
     "end_time": "2024-09-10T16:17:42.358260",
     "exception": false,
     "start_time": "2024-09-10T16:17:42.145439",
     "status": "completed"
    },
    "tags": []
   },
   "outputs": [],
   "source": [
    "economy_df = df[df[\"class\"] == \"Economy\"]\n",
    "business_df = df[df[\"class\"] == \"Business\"]"
   ]
  },
  {
   "cell_type": "code",
   "execution_count": 11,
   "id": "43d2078a",
   "metadata": {
    "papermill": {
     "duration": 0.055577,
     "end_time": "2024-09-10T16:17:42.428910",
     "exception": false,
     "start_time": "2024-09-10T16:17:42.373333",
     "status": "completed"
    },
    "tags": []
   },
   "outputs": [],
   "source": [
    "price_in_economy = economy_df.groupby(\"airline\")[\"price\"].median()"
   ]
  },
  {
   "cell_type": "code",
   "execution_count": 12,
   "id": "b1b73c73",
   "metadata": {
    "papermill": {
     "duration": 0.303331,
     "end_time": "2024-09-10T16:17:42.747234",
     "exception": false,
     "start_time": "2024-09-10T16:17:42.443903",
     "status": "completed"
    },
    "tags": []
   },
   "outputs": [
    {
     "data": {
      "text/plain": [
       "<Axes: ylabel='airline'>"
      ]
     },
     "execution_count": 12,
     "metadata": {},
     "output_type": "execute_result"
    },
    {
     "data": {
      "image/png": "[encoded data removed]",
      "text/plain": [
       "<Figure size 640x480 with 1 Axes>"
      ]
     },
     "metadata": {},
     "output_type": "display_data"
    }
   ],
   "source": [
    "sns.barplot(x=price_in_economy.values,y=price_in_economy.index)"
   ]
  },
  {
   "cell_type": "code",
   "execution_count": null,
   "id": "83d129e3",
   "metadata": {
    "papermill": {
     "duration": 0.990927,
     "end_time": "2024-09-10T16:17:45.911679",
     "exception": false,
     "start_time": "2024-09-10T16:17:44.920752",
     "status": "completed"
    },
    "tags": []
   },
   "outputs": [],
   "source": []
  },
  {
   "cell_type": "code",
   "execution_count": 13,
   "id": "8c43a4b7",
   "metadata": {
    "papermill": {
     "duration": 0.614151,
     "end_time": "2024-09-10T16:17:46.544335",
     "exception": false,
     "start_time": "2024-09-10T16:17:45.930184",
     "status": "completed"
    },
    "tags": []
   },
   "outputs": [],
   "source": [
    "encoder = LabelEncoder()\n",
    "\n",
    "df[\"airline\"] = encoder.fit_transform(df[\"airline\"])\n",
    "df[\"source_city\"] = encoder.fit_transform(df[\"source_city\"])\n",
    "df[\"departure_time\"] = encoder.fit_transform(df[\"departure_time\"])\n",
    "df[\"stops\"] = encoder.fit_transform(df[\"stops\"])\n",
    "df[\"arrival_time\"] = encoder.fit_transform(df[\"arrival_time\"])\n",
    "df[\"destination_city\"] = encoder.fit_transform(df[\"destination_city\"])\n",
    "df[\"class\"] = encoder.fit_transform(df[\"class\"])"
   ]
  },
  {
   "cell_type": "code",
   "execution_count": 35,
   "id": "0122b7b0",
   "metadata": {
    "papermill": {
     "duration": 0.037736,
     "end_time": "2024-09-10T16:17:46.600535",
     "exception": false,
     "start_time": "2024-09-10T16:17:46.562799",
     "status": "completed"
    },
    "tags": []
   },
   "outputs": [
    {
     "data": {
      "text/html": [
       "<div>\n",
       "<style scoped>\n",
       "    .dataframe tbody tr th:only-of-type {\n",
       "        vertical-align: middle;\n",
       "    }\n",
       "\n",
       "    .dataframe tbody tr th {\n",
       "        vertical-align: top;\n",
       "    }\n",
       "\n",
       "    .dataframe thead th {\n",
       "        text-align: right;\n",
       "    }\n",
       "</style>\n",
       "<table border=\"1\" class=\"dataframe\">\n",
       "  <thead>\n",
       "    <tr style=\"text-align: right;\">\n",
       "      <th></th>\n",
       "      <th>airline</th>\n",
       "      <th>source_city</th>\n",
       "      <th>departure_time</th>\n",
       "      <th>stops</th>\n",
       "      <th>arrival_time</th>\n",
       "      <th>destination_city</th>\n",
       "      <th>class</th>\n",
       "      <th>duration</th>\n",
       "      <th>days_left</th>\n",
       "      <th>price</th>\n",
       "    </tr>\n",
       "  </thead>\n",
       "  <tbody>\n",
       "    <tr>\n",
       "      <th>0</th>\n",
       "      <td>4</td>\n",
       "      <td>2</td>\n",
       "      <td>2</td>\n",
       "      <td>2</td>\n",
       "      <td>5</td>\n",
       "      <td>5</td>\n",
       "      <td>1</td>\n",
       "      <td>2.17</td>\n",
       "      <td>1</td>\n",
       "      <td>5953</td>\n",
       "    </tr>\n",
       "    <tr>\n",
       "      <th>1</th>\n",
       "      <td>4</td>\n",
       "      <td>2</td>\n",
       "      <td>1</td>\n",
       "      <td>2</td>\n",
       "      <td>4</td>\n",
       "      <td>5</td>\n",
       "      <td>1</td>\n",
       "      <td>2.33</td>\n",
       "      <td>1</td>\n",
       "      <td>5953</td>\n",
       "    </tr>\n",
       "    <tr>\n",
       "      <th>2</th>\n",
       "      <td>0</td>\n",
       "      <td>2</td>\n",
       "      <td>1</td>\n",
       "      <td>2</td>\n",
       "      <td>1</td>\n",
       "      <td>5</td>\n",
       "      <td>1</td>\n",
       "      <td>2.17</td>\n",
       "      <td>1</td>\n",
       "      <td>5956</td>\n",
       "    </tr>\n",
       "    <tr>\n",
       "      <th>3</th>\n",
       "      <td>5</td>\n",
       "      <td>2</td>\n",
       "      <td>4</td>\n",
       "      <td>2</td>\n",
       "      <td>0</td>\n",
       "      <td>5</td>\n",
       "      <td>1</td>\n",
       "      <td>2.25</td>\n",
       "      <td>1</td>\n",
       "      <td>5955</td>\n",
       "    </tr>\n",
       "    <tr>\n",
       "      <th>4</th>\n",
       "      <td>5</td>\n",
       "      <td>2</td>\n",
       "      <td>4</td>\n",
       "      <td>2</td>\n",
       "      <td>4</td>\n",
       "      <td>5</td>\n",
       "      <td>1</td>\n",
       "      <td>2.33</td>\n",
       "      <td>1</td>\n",
       "      <td>5955</td>\n",
       "    </tr>\n",
       "    <tr>\n",
       "      <th>...</th>\n",
       "      <td>...</td>\n",
       "      <td>...</td>\n",
       "      <td>...</td>\n",
       "      <td>...</td>\n",
       "      <td>...</td>\n",
       "      <td>...</td>\n",
       "      <td>...</td>\n",
       "      <td>...</td>\n",
       "      <td>...</td>\n",
       "      <td>...</td>\n",
       "    </tr>\n",
       "    <tr>\n",
       "      <th>295</th>\n",
       "      <td>1</td>\n",
       "      <td>2</td>\n",
       "      <td>2</td>\n",
       "      <td>0</td>\n",
       "      <td>5</td>\n",
       "      <td>5</td>\n",
       "      <td>1</td>\n",
       "      <td>24.75</td>\n",
       "      <td>3</td>\n",
       "      <td>10785</td>\n",
       "    </tr>\n",
       "    <tr>\n",
       "      <th>296</th>\n",
       "      <td>2</td>\n",
       "      <td>2</td>\n",
       "      <td>1</td>\n",
       "      <td>0</td>\n",
       "      <td>5</td>\n",
       "      <td>5</td>\n",
       "      <td>1</td>\n",
       "      <td>14.25</td>\n",
       "      <td>3</td>\n",
       "      <td>10863</td>\n",
       "    </tr>\n",
       "    <tr>\n",
       "      <th>297</th>\n",
       "      <td>3</td>\n",
       "      <td>2</td>\n",
       "      <td>5</td>\n",
       "      <td>0</td>\n",
       "      <td>4</td>\n",
       "      <td>5</td>\n",
       "      <td>1</td>\n",
       "      <td>10.42</td>\n",
       "      <td>3</td>\n",
       "      <td>10943</td>\n",
       "    </tr>\n",
       "    <tr>\n",
       "      <th>298</th>\n",
       "      <td>5</td>\n",
       "      <td>2</td>\n",
       "      <td>5</td>\n",
       "      <td>0</td>\n",
       "      <td>0</td>\n",
       "      <td>5</td>\n",
       "      <td>1</td>\n",
       "      <td>17.92</td>\n",
       "      <td>3</td>\n",
       "      <td>11415</td>\n",
       "    </tr>\n",
       "    <tr>\n",
       "      <th>299</th>\n",
       "      <td>5</td>\n",
       "      <td>2</td>\n",
       "      <td>2</td>\n",
       "      <td>0</td>\n",
       "      <td>0</td>\n",
       "      <td>5</td>\n",
       "      <td>1</td>\n",
       "      <td>20.83</td>\n",
       "      <td>3</td>\n",
       "      <td>11415</td>\n",
       "    </tr>\n",
       "  </tbody>\n",
       "</table>\n",
       "<p>300 rows × 10 columns</p>\n",
       "</div>"
      ],
      "text/plain": [
       "     airline  source_city  departure_time  stops  arrival_time  \\\n",
       "0          4            2               2      2             5   \n",
       "1          4            2               1      2             4   \n",
       "2          0            2               1      2             1   \n",
       "3          5            2               4      2             0   \n",
       "4          5            2               4      2             4   \n",
       "..       ...          ...             ...    ...           ...   \n",
       "295        1            2               2      0             5   \n",
       "296        2            2               1      0             5   \n",
       "297        3            2               5      0             4   \n",
       "298        5            2               5      0             0   \n",
       "299        5            2               2      0             0   \n",
       "\n",
       "     destination_city  class  duration  days_left  price  \n",
       "0                   5      1      2.17          1   5953  \n",
       "1                   5      1      2.33          1   5953  \n",
       "2                   5      1      2.17          1   5956  \n",
       "3                   5      1      2.25          1   5955  \n",
       "4                   5      1      2.33          1   5955  \n",
       "..                ...    ...       ...        ...    ...  \n",
       "295                 5      1     24.75          3  10785  \n",
       "296                 5      1     14.25          3  10863  \n",
       "297                 5      1     10.42          3  10943  \n",
       "298                 5      1     17.92          3  11415  \n",
       "299                 5      1     20.83          3  11415  \n",
       "\n",
       "[300 rows x 10 columns]"
      ]
     },
     "execution_count": 35,
     "metadata": {},
     "output_type": "execute_result"
    }
   ],
   "source": [
    "df.head(300)"
   ]
  },
  {
   "cell_type": "code",
   "execution_count": 15,
   "id": "b590c390",
   "metadata": {
    "papermill": {
     "duration": 0.053082,
     "end_time": "2024-09-10T16:17:46.672485",
     "exception": false,
     "start_time": "2024-09-10T16:17:46.619403",
     "status": "completed"
    },
    "tags": []
   },
   "outputs": [],
   "source": [
    "df.drop([\"Unnamed: 0\", \"flight\"], axis=1, inplace=True)"
   ]
  },
  {
   "cell_type": "code",
   "execution_count": 16,
   "id": "8e4d6cf5",
   "metadata": {
    "papermill": {
     "duration": 0.878208,
     "end_time": "2024-09-10T16:17:47.569712",
     "exception": false,
     "start_time": "2024-09-10T16:17:46.691504",
     "status": "completed"
    },
    "tags": []
   },
   "outputs": [
    {
     "data": {
      "text/plain": [
       "<Axes: >"
      ]
     },
     "execution_count": 16,
     "metadata": {},
     "output_type": "execute_result"
    },
    {
     "data": {
      "image/png": "[encoded data removed]",
      "text/plain": [
       "<Figure size 640x480 with 2 Axes>"
      ]
     },
     "metadata": {},
     "output_type": "display_data"
    }
   ],
   "source": [
    "sns.heatmap(df.corr(),cmap='coolwarm',annot=True)"
   ]
  },
  {
   "cell_type": "code",
   "execution_count": 17,
   "id": "44f12f1b-2838-4f57-a0cf-d303eccd2c9f",
   "metadata": {},
   "outputs": [
    {
     "data": {
      "image/png": "[encoded data removed]",
      "text/plain": [
       "<Figure size 1500x1500 with 10 Axes>"
      ]
     },
     "metadata": {},
     "output_type": "display_data"
    }
   ],
   "source": [
    "plt.figure(figsize=(15, 15))\n",
    "for i, feature in enumerate(df.columns):\n",
    "    plt.subplot(5, 3, i+1)\n",
    "    sns.boxplot(data=df, x=feature)\n",
    "    plt.title(f'{feature} ')\n",
    "    plt.xlabel(' ')\n",
    "    plt.ylabel(feature)\n",
    "plt.tight_layout()"
   ]
  },
  {
   "cell_type": "code",
   "execution_count": 18,
   "id": "76d2fd74",
   "metadata": {
    "papermill": {
     "duration": 0.042879,
     "end_time": "2024-09-10T16:17:49.828902",
     "exception": false,
     "start_time": "2024-09-10T16:17:49.786023",
     "status": "completed"
    },
    "tags": []
   },
   "outputs": [],
   "source": [
    "q1 = df['duration'].quantile(0.25)\n",
    "q3 = df['duration'].quantile(0.75)"
   ]
  },
  {
   "cell_type": "code",
   "execution_count": 19,
   "id": "9d94e8e9",
   "metadata": {
    "papermill": {
     "duration": 0.055403,
     "end_time": "2024-09-10T16:17:49.906373",
     "exception": false,
     "start_time": "2024-09-10T16:17:49.850970",
     "status": "completed"
    },
    "tags": []
   },
   "outputs": [],
   "source": [
    "iqr = q3 - q1\n",
    "\n",
    "upper_limit = q3 + (1.5 * iqr)\n",
    "lower_limit = q1 - (1.5 * iqr)\n",
    "\n",
    "df = df.loc[(df[\"duration\"] < upper_limit) & (df[\"duration\"] > lower_limit)]"
   ]
  },
  {
   "cell_type": "code",
   "execution_count": 20,
   "id": "e95f3719",
   "metadata": {
    "papermill": {
     "duration": 0.040432,
     "end_time": "2024-09-10T16:17:49.969050",
     "exception": false,
     "start_time": "2024-09-10T16:17:49.928618",
     "status": "completed"
    },
    "tags": []
   },
   "outputs": [],
   "source": [
    "X = df.drop(\"price\", axis=1)\n",
    "y = df[\"price\"]\n"
   ]
  },
  {
   "cell_type": "code",
   "execution_count": 37,
   "id": "81633225-992c-4003-bc1d-04df9f08f594",
   "metadata": {},
   "outputs": [
    {
     "data": {
      "text/plain": [
       "0       5953\n",
       "1       5953\n",
       "2       5956\n",
       "3       5955\n",
       "4       5955\n",
       "       ...  \n",
       "295    10785\n",
       "296    10863\n",
       "297    10943\n",
       "298    11415\n",
       "299    11415\n",
       "Name: price, Length: 300, dtype: int64"
      ]
     },
     "execution_count": 37,
     "metadata": {},
     "output_type": "execute_result"
    }
   ],
   "source": [
    "y.head(300)"
   ]
  },
  {
   "cell_type": "code",
   "execution_count": null,
   "id": "b3985b09-7e7c-4af4-84ee-ec27dfd26d40",
   "metadata": {},
   "outputs": [],
   "source": []
  },
  {
   "cell_type": "code",
   "execution_count": 22,
   "id": "1434c3d4",
   "metadata": {
    "papermill": {
     "duration": 0.110834,
     "end_time": "2024-09-10T16:17:50.101913",
     "exception": false,
     "start_time": "2024-09-10T16:17:49.991079",
     "status": "completed"
    },
    "tags": []
   },
   "outputs": [],
   "source": [
    "x_train, x_test, y_train, y_test = train_test_split(X, y, random_state=42, test_size=0.2)"
   ]
  },
  {
   "cell_type": "code",
   "execution_count": 45,
   "id": "662ccf9c",
   "metadata": {
    "papermill": {
     "duration": 0.022444,
     "end_time": "2024-09-10T16:18:59.719663",
     "exception": false,
     "start_time": "2024-09-10T16:18:59.697219",
     "status": "completed"
    },
    "tags": []
   },
   "outputs": [
    {
     "name": "stdout",
     "output_type": "stream",
     "text": [
      "R2-score:  90.5 %\n"
     ]
    }
   ],
   "source": [
    "lr=LinearRegression()\n",
    "lr.fit(x_train, y_train)\n",
    "y_pred = lr.predict(x_test)\n",
    "print(\"R2-score: \", f\"{(r2_score(y_test, y_pred) * 100):0.1f}\", \"%\")"
   ]
  },
  {
   "cell_type": "code",
   "execution_count": 41,
   "id": "cf025bda-19e4-4f5b-9796-82a94a0d01b0",
   "metadata": {},
   "outputs": [
    {
     "name": "stdout",
     "output_type": "stream",
     "text": [
      "R2-score:  90.5 %\n"
     ]
    }
   ],
   "source": [
    "rg = Ridge(alpha=5)\n",
    "rg.fit(x_train, y_train)\n",
    "y_predrg=rg.predict(x_test)\n",
    "print(\"R2-score: \", f\"{(r2_score(y_test, y_predrg) * 100):0.1f}\", \"%\")"
   ]
  },
  {
   "cell_type": "code",
   "execution_count": 42,
   "id": "a0fd7309-ddc9-436d-bb12-a0fec5ab89fe",
   "metadata": {},
   "outputs": [
    {
     "name": "stdout",
     "output_type": "stream",
     "text": [
      "R2-score:  90.5 %\n"
     ]
    }
   ],
   "source": [
    "ls= Lasso(alpha=1000)\n",
    "ls.fit(x_train,y_train)\n",
    "y_pred_ls=rg.predict(x_test)\n",
    "print(\"R2-score: \", f\"{(r2_score(y_test, y_pred_ls) * 100):0.1f}\", \"%\")"
   ]
  },
  {
   "cell_type": "code",
   "execution_count": 28,
   "id": "52d99592-eec2-4027-934b-7c60b6dbdbf2",
   "metadata": {},
   "outputs": [
    {
     "name": "stdout",
     "output_type": "stream",
     "text": [
      "R2-score:  97.7 %\n"
     ]
    }
   ],
   "source": [
    "dt=DecisionTreeRegressor()\n",
    "dt.fit(x_train,y_train)\n",
    "dt_pred = dt.predict(x_test)\n",
    "print(\"R2-score: \", f\"{(r2_score(y_test, dt_pred) * 100):0.1f}\", \"%\")"
   ]
  },
  {
   "cell_type": "code",
   "execution_count": 23,
   "id": "ed9d8fee",
   "metadata": {
    "papermill": {
     "duration": 66.953092,
     "end_time": "2024-09-10T16:18:57.077360",
     "exception": false,
     "start_time": "2024-09-10T16:17:50.124268",
     "status": "completed"
    },
    "tags": []
   },
   "outputs": [
    {
     "name": "stdout",
     "output_type": "stream",
     "text": [
      "R2-score:  98.5 %\n"
     ]
    }
   ],
   "source": [
    "reg = RandomForestRegressor()\n",
    "reg.fit(x_train, y_train)\n",
    "y_pred = reg.predict(x_test)\n",
    "print(\"R2-score: \", f\"{(r2_score(y_test, y_pred) * 100):0.1f}\", \"%\")"
   ]
  },
  {
   "cell_type": "code",
   "execution_count": 27,
   "id": "676d1a58-a363-4c83-9458-7de751a3753b",
   "metadata": {},
   "outputs": [
    {
     "name": "stdout",
     "output_type": "stream",
     "text": [
      "R2-score:  97.6 %\n"
     ]
    }
   ],
   "source": [
    "xg=XGBRegressor()\n",
    "xg.fit(x_train,y_train)\n",
    "xg_pred = xg.predict(x_test)\n",
    "print(\"R2-score: \", f\"{(r2_score(y_test, xg_pred) * 100):0.1f}\", \"%\")"
   ]
  },
  {
   "cell_type": "code",
   "execution_count": 33,
   "id": "8cf2f042-e105-41a5-9cf5-4923aaacfb02",
   "metadata": {},
   "outputs": [
    {
     "name": "stdout",
     "output_type": "stream",
     "text": [
      "Model saved \n"
     ]
    }
   ],
   "source": [
    "import pickle\n",
    "with open('XGmodel.pkl', 'wb') as model_file:\n",
    "    pickle.dump(xg, model_file)\n",
    "print(\"Model saved \")"
   ]
  },
  {
   "cell_type": "code",
   "execution_count": 38,
   "id": "8469591e-3bec-491c-bc14-a9a3c96c06e6",
   "metadata": {},
   "outputs": [
    {
     "name": "stdout",
     "output_type": "stream",
     "text": [
      "Predicted price: 13480.6572265625\n"
     ]
    }
   ],
   "source": [
    "import pickle\n",
    "import numpy as np\n",
    "\n",
    "# Path to the .pkl file\n",
    "model_path = 'XGmodel.pkl'\n",
    "\n",
    "# Load the model\n",
    "with open(model_path, 'rb') as file:\n",
    "    model = pickle.load(file)\n",
    "\n",
    "# Example input array: Adjust the values to fit your data schema\n",
    "# The array should match the feature order and type used in training\n",
    "input_array = np.array([[5,2,5,0,0,5,1,17.92,3]])\n",
    "\n",
    "# Make a prediction\n",
    "prediction = model.predict(input_array)\n",
    "\n",
    "# Print the prediction\n",
    "print(f'Predicted price: {prediction[0]}')\n"
   ]
  },
  {
   "cell_type": "code",
   "execution_count": null,
   "id": "b47013f1-5543-4eec-a3d0-c57bf14ce498",
   "metadata": {},
   "outputs": [],
   "source": [
    "5\t2\t5\t0\t0\t5\t1\t17.92\t3"
   ]
  }
 ],
 "metadata": {
  "kaggle": {
   "accelerator": "none",
   "dataSources": [
    {
     "datasetId": 1957837,
     "sourceId": 3228623,
     "sourceType": "datasetVersion"
    }
   ],
   "dockerImageVersionId": 30761,
   "isGpuEnabled": false,
   "isInternetEnabled": true,
   "language": "python",
   "sourceType": "notebook"
  },
  "kernelspec": {
   "display_name": "Python 3 (ipykernel)",
   "language": "python",
   "name": "python3"
  },
  "language_info": {
   "codemirror_mode": {
    "name": "ipython",
    "version": 3
   },
   "file_extension": ".py",
   "mimetype": "text/x-python",
   "name": "python",
   "nbconvert_exporter": "python",
   "pygments_lexer": "ipython3",
   "version": "3.11.2"
  },
  "papermill": {
   "default_parameters": {},
   "duration": 88.153022,
   "end_time": "2024-09-10T16:19:00.564374",
   "environment_variables": {},
   "exception": null,
   "input_path": "__notebook__.ipynb",
   "output_path": "__notebook__.ipynb",
   "parameters": {},
   "start_time": "2024-09-10T16:17:32.411352",
   "version": "2.6.0"
  }
 },
 "nbformat": 4,
 "nbformat_minor": 5
}
